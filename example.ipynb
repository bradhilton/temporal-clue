{
 "cells": [
  {
   "cell_type": "code",
   "execution_count": 1,
   "metadata": {},
   "outputs": [
    {
     "data": {
      "text/plain": [
       "TemporalCluePuzzle(\n",
       "    scenario=TemporalClue(\n",
       "        suspects=[\"Mr. Green\", \"Monsieur Brunette\"],\n",
       "        weapons=[\"Knife\", \"Rope\"],\n",
       "        rooms=[\"Gazebo\", \"Lounge\"],\n",
       "        times=[\"12:00 AM\"],\n",
       "        motives=[\"Jealousy\", \"Power\"],\n",
       "        murderer=\"Monsieur Brunette\",\n",
       "        murder_weapon=\"Knife\",\n",
       "        murder_room=\"Gazebo\",\n",
       "        murder_time=\"12:00 AM\",\n",
       "    ),\n",
       "    clues=[\n",
       "        \"The murderer was in the Lounge at 12:00 AM if and only if Mr. Green was in the Gazebo at 12:00 AM\",\n",
       "        \"Monsieur Brunette was in the Gazebo at 12:00 AM or the suspect motivated by Jealousy was in the Gazebo at 12:00 AM\",\n",
       "        \"The murderer was in the Gazebo at 12:00 AM\",\n",
       "        \"The Rope was in the Lounge at 12:00 AM\",\n",
       "    ],\n",
       "    questions={\n",
       "        \"Who murdered Mr. Boddy?\": \"Monsieur Brunette\",\n",
       "        \"What weapon did the murderer use?\": \"Knife\",\n",
       "        \"Where was the murder committed?\": \"Gazebo\",\n",
       "        \"Why did the murderer do it?\": \"Power\",\n",
       "    },\n",
       "    bonus_questions={\n",
       "        \"Where was the suspect motivated by Power at 12:00 AM?\": \"Gazebo\",\n",
       "        \"Who is motivated by Power?\": \"Monsieur Brunette\",\n",
       "    },\n",
       "    tag_counts=Counter(\n",
       "        {\n",
       "            \"indirect\": 2,\n",
       "            \"direct\": 2,\n",
       "            \"piece_time_room\": 2,\n",
       "            \"xor\": 1,\n",
       "            \"murderer\": 1,\n",
       "            \"iff\": 1,\n",
       "        }\n",
       "    ),\n",
       ")"
      ]
     },
     "execution_count": 1,
     "metadata": {},
     "output_type": "execute_result"
    }
   ],
   "source": [
    "import random\n",
    "from temporal_clue import TemporalClueScenario\n",
    "\n",
    "random.seed(42)\n",
    "scenario = TemporalClueScenario(\n",
    "    min_players=1,\n",
    "    max_players=2,\n",
    ")\n",
    "puzzle = scenario.create_puzzle()\n",
    "puzzle"
   ]
  }
 ],
 "metadata": {
  "kernelspec": {
   "display_name": ".venv",
   "language": "python",
   "name": "python3"
  },
  "language_info": {
   "codemirror_mode": {
    "name": "ipython",
    "version": 3
   },
   "file_extension": ".py",
   "mimetype": "text/x-python",
   "name": "python",
   "nbconvert_exporter": "python",
   "pygments_lexer": "ipython3",
   "version": "3.12.5"
  }
 },
 "nbformat": 4,
 "nbformat_minor": 2
}
